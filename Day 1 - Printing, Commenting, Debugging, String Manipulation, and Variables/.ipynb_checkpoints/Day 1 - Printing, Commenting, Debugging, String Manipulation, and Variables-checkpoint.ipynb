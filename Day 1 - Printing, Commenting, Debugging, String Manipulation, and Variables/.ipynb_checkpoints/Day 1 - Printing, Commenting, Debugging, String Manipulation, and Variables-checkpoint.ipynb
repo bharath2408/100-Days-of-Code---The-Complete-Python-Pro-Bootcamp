{
 "cells": [
  {
   "cell_type": "code",
   "execution_count": 6,
   "metadata": {},
   "outputs": [
    {
     "name": "stdout",
     "output_type": "stream",
     "text": [
      "Day 1 - Python Print Function\n",
      "The function is declared like this:\n",
      "print('what to print')\n"
     ]
    }
   ],
   "source": [
    "print(\"Day 1 - Python Print Function\")\n",
    "\n",
    "print(\"The function is declared like this:\")\n",
    "\n",
    "print(\"print('what to print')\")"
   ]
  },
  {
   "cell_type": "code",
   "execution_count": 2,
   "metadata": {},
   "outputs": [
    {
     "name": "stdout",
     "output_type": "stream",
     "text": [
      "Hello World!\n",
      "Hello World!\n",
      "Hello World!\n"
     ]
    }
   ],
   "source": [
    "print(\"Hello World!\\nHello World!\\nHello World!\")"
   ]
  },
  {
   "cell_type": "code",
   "execution_count": 6,
   "metadata": {},
   "outputs": [
    {
     "name": "stdout",
     "output_type": "stream",
     "text": [
      "Hello bharath\n",
      "Hello bharath\n"
     ]
    }
   ],
   "source": [
    "print(\"Hello \" + \"bharath\")\n",
    "\n",
    "print(\"Hello\" + \" \" + \"bharath\")"
   ]
  },
  {
   "cell_type": "markdown",
   "metadata": {},
   "source": [
    "### Day 1 - String Manipulation \n",
    "\n",
    "print(Day 1 - String Manipulation\")\n",
    "      \n",
    "print(\"String Concatenation is done with the \"+\" sign.\")\n",
    "      \n",
    "  print('e.g. print(\"Hello \" + \"world\")')\n",
    "      \n",
    " print((\"New lines can be created with a backslash and n.\")\n"
   ]
  },
  {
   "cell_type": "code",
   "execution_count": 11,
   "metadata": {},
   "outputs": [
    {
     "name": "stdout",
     "output_type": "stream",
     "text": [
      "Day 1 - String Manipulation\n",
      "String Concatenation is done with the sign.\n",
      "String Concatenation is done with the  \"+\" sign.\n",
      "e.g. print(\"Hello \" + \"world\")\n",
      "New lines can be created with a backslash and n.\n"
     ]
    }
   ],
   "source": [
    "print(\"Day 1 - String Manipulation\")\n",
    "print(\"String Concatenation is done with the sign.\")\n",
    "print('String Concatenation is done with the  \"+\" sign.')\n",
    "print('e.g. print(\"Hello \" + \"world\")')\n",
    "print(\"New lines can be created with a backslash and n.\")"
   ]
  },
  {
   "cell_type": "markdown",
   "metadata": {},
   "source": [
    "## Input Function"
   ]
  },
  {
   "cell_type": "code",
   "execution_count": 1,
   "metadata": {},
   "outputs": [
    {
     "name": "stdout",
     "output_type": "stream",
     "text": [
      "what is your name: bharath\n",
      "Hello bharath\n"
     ]
    }
   ],
   "source": [
    "# input() will get user input in console\n",
    "# Then print() will print the word \"Hello\" and the user input\n",
    "# print(\"Hello\" + \" \" + input(\"what is your name: \"))\n",
    "\n",
    "print(\"Hello\" + \" \" + input(\"what is your name: \"))"
   ]
  },
  {
   "cell_type": "markdown",
   "metadata": {},
   "source": [
    "### Day 1.3 Input Exercise"
   ]
  },
  {
   "cell_type": "code",
   "execution_count": 2,
   "metadata": {},
   "outputs": [
    {
     "name": "stdout",
     "output_type": "stream",
     "text": [
      "what is your name?bharath\n",
      "7\n"
     ]
    }
   ],
   "source": [
    "print(len(input(\"what is your name?\")))"
   ]
  },
  {
   "cell_type": "markdown",
   "metadata": {},
   "source": [
    "## Python Variables"
   ]
  },
  {
   "cell_type": "code",
   "execution_count": 3,
   "metadata": {},
   "outputs": [
    {
     "name": "stdout",
     "output_type": "stream",
     "text": [
      "what is your name: bharath\n",
      "bharath\n",
      "jack\n",
      "Angela\n",
      "What is your namebharath\n",
      "7\n"
     ]
    }
   ],
   "source": [
    "# In this section using python variables\n",
    "# Below the example program\n",
    "# using input() function for get input by user\n",
    "# that input will stored in name(variable)\n",
    "# Now user input will stored in name(variable)\n",
    "# Print(name) now we see the ouput as user given input\n",
    "\n",
    "name = input(\"what is your name: \")\n",
    "print(name)\n",
    "\n",
    "name = \"jack\"\n",
    "print(name)\n",
    "\n",
    "name = \"Angela\"\n",
    "print(name)\n",
    "\n",
    "name = input(\"What is your name\")\n",
    "length = len(name)\n",
    "print(length)"
   ]
  },
  {
   "cell_type": "markdown",
   "metadata": {},
   "source": [
    "### Day 1.4 Variables Exercise"
   ]
  },
  {
   "cell_type": "code",
   "execution_count": 6,
   "metadata": {},
   "outputs": [
    {
     "name": "stdout",
     "output_type": "stream",
     "text": [
      "a: 3\n",
      "b: 4\n",
      "a = 4\n",
      "b = 3\n"
     ]
    }
   ],
   "source": [
    "# Don't change the code below\n",
    "a = input(\"a: \")\n",
    "b = input(\"b: \")\n",
    "# Don't change the code above\n",
    "\n",
    "#################################\n",
    "# Write your code below this line\n",
    "c = a\n",
    "\n",
    "a = b\n",
    "\n",
    "b = c\n",
    "# Write your code above this line\n",
    "#################################\n",
    "\n",
    "# Don't change the code below\n",
    "print(\"a = \" + a)\n",
    "print(\"b = \" + b)\n",
    "# Don't change the code above"
   ]
  },
  {
   "cell_type": "markdown",
   "metadata": {},
   "source": [
    "## Naming Variables"
   ]
  },
  {
   "cell_type": "code",
   "execution_count": 7,
   "metadata": {},
   "outputs": [
    {
     "name": "stdout",
     "output_type": "stream",
     "text": [
      "What is your namebharath\n",
      "7\n"
     ]
    }
   ],
   "source": [
    "# Rule for naming variables\n",
    "# 1. make your code readable\n",
    "# 2. don't use python keywords for variable eg(False, await, else, import, pass, None, break, \n",
    "# except, in, raise, True, class, finally, is, return\n",
    "# and, continue, for, lambda, try\n",
    "# as, def, from, nonlocal, while\n",
    "# assert, del, global, not, with\n",
    "# async, elif, if, or, yield)\n",
    "# 3. a variable along with an keyword is suitable(eg: isname or is_name)\n",
    "\n",
    "\n",
    "#correct format\n",
    "user_name = input(\"What is your name\")\n",
    "length1 = len(name)\n",
    "print(length)\n",
    "\n",
    "# Not like this\n",
    "# user name = input(\"What is your name\")\n",
    "# 1length = len(name)\n",
    "# print(length)\n",
    "# input = input(\"What is your name\")\n",
    "\n",
    "\n"
   ]
  },
  {
   "cell_type": "markdown",
   "metadata": {},
   "source": [
    "# Day 1 Project Band generator"
   ]
  },
  {
   "cell_type": "code",
   "execution_count": 8,
   "metadata": {},
   "outputs": [
    {
     "name": "stdout",
     "output_type": "stream",
     "text": [
      "Welcome to the band name generator.\n",
      "which city did your grow up in?cuddalore\n",
      "what is the name of a petcat\n",
      "your band name could be cuddalore cat\n"
     ]
    }
   ],
   "source": [
    "print(\"Welcome to the band name generator.\")\n",
    "city = input(\"which city did your grow up in?\")\n",
    "pet =  input(\"what is the name of a pet\")\n",
    "print(\"your band name could be \"+city+ \" \"+pet)"
   ]
  },
  {
   "cell_type": "code",
   "execution_count": null,
   "metadata": {},
   "outputs": [],
   "source": []
  }
 ],
 "metadata": {
  "kernelspec": {
   "display_name": "Python 3",
   "language": "python",
   "name": "python3"
  },
  "language_info": {
   "codemirror_mode": {
    "name": "ipython",
    "version": 3
   },
   "file_extension": ".py",
   "mimetype": "text/x-python",
   "name": "python",
   "nbconvert_exporter": "python",
   "pygments_lexer": "ipython3",
   "version": "3.8.5"
  }
 },
 "nbformat": 4,
 "nbformat_minor": 4
}
