{
 "cells": [
  {
   "cell_type": "markdown",
   "metadata": {},
   "source": [
    "# Python Primitive Data Types"
   ]
  },
  {
   "cell_type": "code",
   "execution_count": 5,
   "metadata": {},
   "outputs": [
    {
     "name": "stdout",
     "output_type": "stream",
     "text": [
      "o\n",
      "123345\n",
      "468\n"
     ]
    },
    {
     "data": {
      "text/plain": [
       "float"
      ]
     },
     "execution_count": 5,
     "metadata": {},
     "output_type": "execute_result"
    }
   ],
   "source": [
    "# Data Types\n",
    "\n",
    "\n",
    "# String\n",
    "\n",
    "print(\"Hello\"[4])\n",
    "\n",
    "print(\"123\"+\"345\")\n",
    "\n",
    "# Integer\n",
    "\n",
    "print(123 + 345)\n",
    "\n",
    "123_456_789\n",
    "\n",
    "# Float\n",
    "\n",
    "3.14159\n",
    "\n",
    "type(3.14159)\n",
    "\n",
    "# Boolean\n",
    "\n",
    "True\n",
    "False"
   ]
  },
  {
   "cell_type": "code",
   "execution_count": 2,
   "metadata": {},
   "outputs": [
    {
     "name": "stdout",
     "output_type": "stream",
     "text": [
      "What is your name?bharath\n",
      "your name has 7 Characters.\n"
     ]
    }
   ],
   "source": [
    "num_char = len(input(\"What is your name?\"))\n",
    "#print(\"your name has\"+  +\"characters.\")\n",
    "\n",
    "new_num_char = str(num_char)\n",
    "\n",
    "print(\"your name has \" + new_num_char + \" Characters.\")\n",
    "\n"
   ]
  },
  {
   "cell_type": "markdown",
   "metadata": {},
   "source": [
    "## Day 2.1 Data Types Exercise "
   ]
  },
  {
   "cell_type": "code",
   "execution_count": 6,
   "metadata": {},
   "outputs": [
    {
     "name": "stdout",
     "output_type": "stream",
     "text": [
      "type a two digit nuber:23\n",
      "5\n"
     ]
    }
   ],
   "source": [
    "# Write a program that adds the digits in a 2 digits number e.g. if the input was 35 then the output should be 3 + 5 = 8  \n",
    "\n",
    "two_digit_number = input(\"type a two digit nuber:\")\n",
    "\n",
    "\n",
    "first_digit = int(two_digit_number[0])\n",
    "second_digit = int(two_digit_number[1])\n",
    "\n",
    "print(first_digit + second_digit)"
   ]
  },
  {
   "cell_type": "markdown",
   "metadata": {},
   "source": [
    "## Mathematical Operations in Python"
   ]
  },
  {
   "cell_type": "code",
   "execution_count": 7,
   "metadata": {},
   "outputs": [
    {
     "name": "stdout",
     "output_type": "stream",
     "text": [
      "8\n",
      "3\n",
      "6\n",
      "2.0\n",
      "8\n"
     ]
    }
   ],
   "source": [
    "print(3 + 5)\n",
    "print(7 - 4)\n",
    "print(3 * 2)\n",
    "print(6 / 3)\n",
    "print(2 ** 3)\n"
   ]
  },
  {
   "cell_type": "code",
   "execution_count": null,
   "metadata": {},
   "outputs": [],
   "source": []
  }
 ],
 "metadata": {
  "kernelspec": {
   "display_name": "Python 3",
   "language": "python",
   "name": "python3"
  },
  "language_info": {
   "codemirror_mode": {
    "name": "ipython",
    "version": 3
   },
   "file_extension": ".py",
   "mimetype": "text/x-python",
   "name": "python",
   "nbconvert_exporter": "python",
   "pygments_lexer": "ipython3",
   "version": "3.8.5"
  }
 },
 "nbformat": 4,
 "nbformat_minor": 4
}
